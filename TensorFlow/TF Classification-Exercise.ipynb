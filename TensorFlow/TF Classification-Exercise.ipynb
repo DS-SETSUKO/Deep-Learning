{
 "cells": [
  {
   "cell_type": "markdown",
   "metadata": {
    "collapsed": true
   },
   "source": [
    "# Classification Exercise"
   ]
  },
  {
   "cell_type": "markdown",
   "metadata": {},
   "source": [
    "We'll be working with some California Census Data, we'll be trying to use various features of an individual to predict what class of income they belogn in (>50k or <=50k). \n",
    "\n",
    "Here is some information about the data:"
   ]
  },
  {
   "cell_type": "markdown",
   "metadata": {},
   "source": [
    "<table>\n",
    "<thead>\n",
    "<tr>\n",
    "<th>Column Name</th>\n",
    "<th>Type</th>\n",
    "<th>Description</th>\n",
    "</tr>\n",
    "</thead>\n",
    "<tbody>\n",
    "<tr>\n",
    "<td>age</td>\n",
    "<td>Continuous</td>\n",
    "<td>The age of the individual</td>\n",
    "</tr>\n",
    "<tr>\n",
    "<td>workclass</td>\n",
    "<td>Categorical</td>\n",
    "<td>The type of employer the  individual has (government,  military, private, etc.).</td>\n",
    "</tr>\n",
    "<tr>\n",
    "<td>fnlwgt</td>\n",
    "<td>Continuous</td>\n",
    "<td>The number of people the census  takers believe that observation  represents (sample weight). This  variable will not be used.</td>\n",
    "</tr>\n",
    "<tr>\n",
    "<td>education</td>\n",
    "<td>Categorical</td>\n",
    "<td>The highest level of education  achieved for that individual.</td>\n",
    "</tr>\n",
    "<tr>\n",
    "<td>education_num</td>\n",
    "<td>Continuous</td>\n",
    "<td>The highest level of education in  numerical form.</td>\n",
    "</tr>\n",
    "<tr>\n",
    "<td>marital_status</td>\n",
    "<td>Categorical</td>\n",
    "<td>Marital status of the individual.</td>\n",
    "</tr>\n",
    "<tr>\n",
    "<td>occupation</td>\n",
    "<td>Categorical</td>\n",
    "<td>The occupation of the individual.</td>\n",
    "</tr>\n",
    "<tr>\n",
    "<td>relationship</td>\n",
    "<td>Categorical</td>\n",
    "<td>Wife, Own-child, Husband,  Not-in-family, Other-relative,  Unmarried.</td>\n",
    "</tr>\n",
    "<tr>\n",
    "<td>race</td>\n",
    "<td>Categorical</td>\n",
    "<td>White, Asian-Pac-Islander,  Amer-Indian-Eskimo, Other, Black.</td>\n",
    "</tr>\n",
    "<tr>\n",
    "<td>gender</td>\n",
    "<td>Categorical</td>\n",
    "<td>Female, Male.</td>\n",
    "</tr>\n",
    "<tr>\n",
    "<td>capital_gain</td>\n",
    "<td>Continuous</td>\n",
    "<td>Capital gains recorded.</td>\n",
    "</tr>\n",
    "<tr>\n",
    "<td>capital_loss</td>\n",
    "<td>Continuous</td>\n",
    "<td>Capital Losses recorded.</td>\n",
    "</tr>\n",
    "<tr>\n",
    "<td>hours_per_week</td>\n",
    "<td>Continuous</td>\n",
    "<td>Hours worked per week.</td>\n",
    "</tr>\n",
    "<tr>\n",
    "<td>native_country</td>\n",
    "<td>Categorical</td>\n",
    "<td>Country of origin of the  individual.</td>\n",
    "</tr>\n",
    "<tr>\n",
    "<td>income</td>\n",
    "<td>Categorical</td>\n",
    "<td>\"&gt;50K\" or \"&lt;=50K\", meaning  whether the person makes more  than \\$50,000 annually.</td>\n",
    "</tr>\n",
    "</tbody>\n",
    "</table>"
   ]
  },
  {
   "cell_type": "markdown",
   "metadata": {},
   "source": [
    "## Follow the Directions in Bold. If you get stuck, check out the solutions lecture."
   ]
  },
  {
   "cell_type": "markdown",
   "metadata": {},
   "source": [
    "### THE DATA"
   ]
  },
  {
   "cell_type": "markdown",
   "metadata": {},
   "source": [
    "** Read in the census_data.csv data with pandas**"
   ]
  },
  {
   "cell_type": "code",
   "execution_count": 1,
   "metadata": {
    "collapsed": true
   },
   "outputs": [],
   "source": [
    "import pandas as pd\n",
    "import tensorflow as tf\n",
    "import matplotlib.pyplot as plt\n",
    "\n",
    "%matplotlib inline"
   ]
  },
  {
   "cell_type": "code",
   "execution_count": 2,
   "metadata": {
    "collapsed": true
   },
   "outputs": [],
   "source": [
    "census = pd.read_csv(\"census_data.csv\")"
   ]
  },
  {
   "cell_type": "code",
   "execution_count": 3,
   "metadata": {},
   "outputs": [
    {
     "data": {
      "text/html": [
       "<div>\n",
       "<style scoped>\n",
       "    .dataframe tbody tr th:only-of-type {\n",
       "        vertical-align: middle;\n",
       "    }\n",
       "\n",
       "    .dataframe tbody tr th {\n",
       "        vertical-align: top;\n",
       "    }\n",
       "\n",
       "    .dataframe thead th {\n",
       "        text-align: right;\n",
       "    }\n",
       "</style>\n",
       "<table border=\"1\" class=\"dataframe\">\n",
       "  <thead>\n",
       "    <tr style=\"text-align: right;\">\n",
       "      <th></th>\n",
       "      <th>age</th>\n",
       "      <th>workclass</th>\n",
       "      <th>education</th>\n",
       "      <th>education_num</th>\n",
       "      <th>marital_status</th>\n",
       "      <th>occupation</th>\n",
       "      <th>relationship</th>\n",
       "      <th>race</th>\n",
       "      <th>gender</th>\n",
       "      <th>capital_gain</th>\n",
       "      <th>capital_loss</th>\n",
       "      <th>hours_per_week</th>\n",
       "      <th>native_country</th>\n",
       "      <th>income_bracket</th>\n",
       "    </tr>\n",
       "  </thead>\n",
       "  <tbody>\n",
       "    <tr>\n",
       "      <th>0</th>\n",
       "      <td>39</td>\n",
       "      <td>State-gov</td>\n",
       "      <td>Bachelors</td>\n",
       "      <td>13</td>\n",
       "      <td>Never-married</td>\n",
       "      <td>Adm-clerical</td>\n",
       "      <td>Not-in-family</td>\n",
       "      <td>White</td>\n",
       "      <td>Male</td>\n",
       "      <td>2174</td>\n",
       "      <td>0</td>\n",
       "      <td>40</td>\n",
       "      <td>United-States</td>\n",
       "      <td>&lt;=50K</td>\n",
       "    </tr>\n",
       "    <tr>\n",
       "      <th>1</th>\n",
       "      <td>50</td>\n",
       "      <td>Self-emp-not-inc</td>\n",
       "      <td>Bachelors</td>\n",
       "      <td>13</td>\n",
       "      <td>Married-civ-spouse</td>\n",
       "      <td>Exec-managerial</td>\n",
       "      <td>Husband</td>\n",
       "      <td>White</td>\n",
       "      <td>Male</td>\n",
       "      <td>0</td>\n",
       "      <td>0</td>\n",
       "      <td>13</td>\n",
       "      <td>United-States</td>\n",
       "      <td>&lt;=50K</td>\n",
       "    </tr>\n",
       "    <tr>\n",
       "      <th>2</th>\n",
       "      <td>38</td>\n",
       "      <td>Private</td>\n",
       "      <td>HS-grad</td>\n",
       "      <td>9</td>\n",
       "      <td>Divorced</td>\n",
       "      <td>Handlers-cleaners</td>\n",
       "      <td>Not-in-family</td>\n",
       "      <td>White</td>\n",
       "      <td>Male</td>\n",
       "      <td>0</td>\n",
       "      <td>0</td>\n",
       "      <td>40</td>\n",
       "      <td>United-States</td>\n",
       "      <td>&lt;=50K</td>\n",
       "    </tr>\n",
       "    <tr>\n",
       "      <th>3</th>\n",
       "      <td>53</td>\n",
       "      <td>Private</td>\n",
       "      <td>11th</td>\n",
       "      <td>7</td>\n",
       "      <td>Married-civ-spouse</td>\n",
       "      <td>Handlers-cleaners</td>\n",
       "      <td>Husband</td>\n",
       "      <td>Black</td>\n",
       "      <td>Male</td>\n",
       "      <td>0</td>\n",
       "      <td>0</td>\n",
       "      <td>40</td>\n",
       "      <td>United-States</td>\n",
       "      <td>&lt;=50K</td>\n",
       "    </tr>\n",
       "    <tr>\n",
       "      <th>4</th>\n",
       "      <td>28</td>\n",
       "      <td>Private</td>\n",
       "      <td>Bachelors</td>\n",
       "      <td>13</td>\n",
       "      <td>Married-civ-spouse</td>\n",
       "      <td>Prof-specialty</td>\n",
       "      <td>Wife</td>\n",
       "      <td>Black</td>\n",
       "      <td>Female</td>\n",
       "      <td>0</td>\n",
       "      <td>0</td>\n",
       "      <td>40</td>\n",
       "      <td>Cuba</td>\n",
       "      <td>&lt;=50K</td>\n",
       "    </tr>\n",
       "  </tbody>\n",
       "</table>\n",
       "</div>"
      ],
      "text/plain": [
       "   age          workclass   education  education_num       marital_status  \\\n",
       "0   39          State-gov   Bachelors             13        Never-married   \n",
       "1   50   Self-emp-not-inc   Bachelors             13   Married-civ-spouse   \n",
       "2   38            Private     HS-grad              9             Divorced   \n",
       "3   53            Private        11th              7   Married-civ-spouse   \n",
       "4   28            Private   Bachelors             13   Married-civ-spouse   \n",
       "\n",
       "           occupation    relationship    race   gender  capital_gain  \\\n",
       "0        Adm-clerical   Not-in-family   White     Male          2174   \n",
       "1     Exec-managerial         Husband   White     Male             0   \n",
       "2   Handlers-cleaners   Not-in-family   White     Male             0   \n",
       "3   Handlers-cleaners         Husband   Black     Male             0   \n",
       "4      Prof-specialty            Wife   Black   Female             0   \n",
       "\n",
       "   capital_loss  hours_per_week  native_country income_bracket  \n",
       "0             0              40   United-States          <=50K  \n",
       "1             0              13   United-States          <=50K  \n",
       "2             0              40   United-States          <=50K  \n",
       "3             0              40   United-States          <=50K  \n",
       "4             0              40            Cuba          <=50K  "
      ]
     },
     "execution_count": 3,
     "metadata": {},
     "output_type": "execute_result"
    }
   ],
   "source": [
    "census.head()"
   ]
  },
  {
   "cell_type": "markdown",
   "metadata": {},
   "source": [
    "** TensorFlow won't be able to understand strings as labels, you'll need to use pandas .apply() method to apply a custom function that converts them to 0s and 1s. This might be hard if you aren't very familiar with pandas, so feel free to take a peek at the solutions for this part.**\n",
    "\n",
    "** Convert the Label column to 0s and 1s instead of strings.**"
   ]
  },
  {
   "cell_type": "code",
   "execution_count": 4,
   "metadata": {},
   "outputs": [
    {
     "data": {
      "text/plain": [
       "array([' <=50K', ' >50K'], dtype=object)"
      ]
     },
     "execution_count": 4,
     "metadata": {},
     "output_type": "execute_result"
    }
   ],
   "source": [
    "census['income_bracket'].unique()"
   ]
  },
  {
   "cell_type": "code",
   "execution_count": 5,
   "metadata": {
    "collapsed": true
   },
   "outputs": [],
   "source": [
    "def label_fix(label):\n",
    "    if label == \" <=50K\":\n",
    "        return 0\n",
    "    else:\n",
    "        return 1"
   ]
  },
  {
   "cell_type": "code",
   "execution_count": 6,
   "metadata": {
    "collapsed": true
   },
   "outputs": [],
   "source": [
    "census[\"income_bracket\"] = census[\"income_bracket\"].apply(label_fix)"
   ]
  },
  {
   "cell_type": "code",
   "execution_count": 7,
   "metadata": {},
   "outputs": [
    {
     "data": {
      "text/html": [
       "<div>\n",
       "<style scoped>\n",
       "    .dataframe tbody tr th:only-of-type {\n",
       "        vertical-align: middle;\n",
       "    }\n",
       "\n",
       "    .dataframe tbody tr th {\n",
       "        vertical-align: top;\n",
       "    }\n",
       "\n",
       "    .dataframe thead th {\n",
       "        text-align: right;\n",
       "    }\n",
       "</style>\n",
       "<table border=\"1\" class=\"dataframe\">\n",
       "  <thead>\n",
       "    <tr style=\"text-align: right;\">\n",
       "      <th></th>\n",
       "      <th>age</th>\n",
       "      <th>workclass</th>\n",
       "      <th>education</th>\n",
       "      <th>education_num</th>\n",
       "      <th>marital_status</th>\n",
       "      <th>occupation</th>\n",
       "      <th>relationship</th>\n",
       "      <th>race</th>\n",
       "      <th>gender</th>\n",
       "      <th>capital_gain</th>\n",
       "      <th>capital_loss</th>\n",
       "      <th>hours_per_week</th>\n",
       "      <th>native_country</th>\n",
       "      <th>income_bracket</th>\n",
       "    </tr>\n",
       "  </thead>\n",
       "  <tbody>\n",
       "    <tr>\n",
       "      <th>0</th>\n",
       "      <td>39</td>\n",
       "      <td>State-gov</td>\n",
       "      <td>Bachelors</td>\n",
       "      <td>13</td>\n",
       "      <td>Never-married</td>\n",
       "      <td>Adm-clerical</td>\n",
       "      <td>Not-in-family</td>\n",
       "      <td>White</td>\n",
       "      <td>Male</td>\n",
       "      <td>2174</td>\n",
       "      <td>0</td>\n",
       "      <td>40</td>\n",
       "      <td>United-States</td>\n",
       "      <td>0</td>\n",
       "    </tr>\n",
       "    <tr>\n",
       "      <th>1</th>\n",
       "      <td>50</td>\n",
       "      <td>Self-emp-not-inc</td>\n",
       "      <td>Bachelors</td>\n",
       "      <td>13</td>\n",
       "      <td>Married-civ-spouse</td>\n",
       "      <td>Exec-managerial</td>\n",
       "      <td>Husband</td>\n",
       "      <td>White</td>\n",
       "      <td>Male</td>\n",
       "      <td>0</td>\n",
       "      <td>0</td>\n",
       "      <td>13</td>\n",
       "      <td>United-States</td>\n",
       "      <td>0</td>\n",
       "    </tr>\n",
       "    <tr>\n",
       "      <th>2</th>\n",
       "      <td>38</td>\n",
       "      <td>Private</td>\n",
       "      <td>HS-grad</td>\n",
       "      <td>9</td>\n",
       "      <td>Divorced</td>\n",
       "      <td>Handlers-cleaners</td>\n",
       "      <td>Not-in-family</td>\n",
       "      <td>White</td>\n",
       "      <td>Male</td>\n",
       "      <td>0</td>\n",
       "      <td>0</td>\n",
       "      <td>40</td>\n",
       "      <td>United-States</td>\n",
       "      <td>0</td>\n",
       "    </tr>\n",
       "    <tr>\n",
       "      <th>3</th>\n",
       "      <td>53</td>\n",
       "      <td>Private</td>\n",
       "      <td>11th</td>\n",
       "      <td>7</td>\n",
       "      <td>Married-civ-spouse</td>\n",
       "      <td>Handlers-cleaners</td>\n",
       "      <td>Husband</td>\n",
       "      <td>Black</td>\n",
       "      <td>Male</td>\n",
       "      <td>0</td>\n",
       "      <td>0</td>\n",
       "      <td>40</td>\n",
       "      <td>United-States</td>\n",
       "      <td>0</td>\n",
       "    </tr>\n",
       "    <tr>\n",
       "      <th>4</th>\n",
       "      <td>28</td>\n",
       "      <td>Private</td>\n",
       "      <td>Bachelors</td>\n",
       "      <td>13</td>\n",
       "      <td>Married-civ-spouse</td>\n",
       "      <td>Prof-specialty</td>\n",
       "      <td>Wife</td>\n",
       "      <td>Black</td>\n",
       "      <td>Female</td>\n",
       "      <td>0</td>\n",
       "      <td>0</td>\n",
       "      <td>40</td>\n",
       "      <td>Cuba</td>\n",
       "      <td>0</td>\n",
       "    </tr>\n",
       "  </tbody>\n",
       "</table>\n",
       "</div>"
      ],
      "text/plain": [
       "   age          workclass   education  education_num       marital_status  \\\n",
       "0   39          State-gov   Bachelors             13        Never-married   \n",
       "1   50   Self-emp-not-inc   Bachelors             13   Married-civ-spouse   \n",
       "2   38            Private     HS-grad              9             Divorced   \n",
       "3   53            Private        11th              7   Married-civ-spouse   \n",
       "4   28            Private   Bachelors             13   Married-civ-spouse   \n",
       "\n",
       "           occupation    relationship    race   gender  capital_gain  \\\n",
       "0        Adm-clerical   Not-in-family   White     Male          2174   \n",
       "1     Exec-managerial         Husband   White     Male             0   \n",
       "2   Handlers-cleaners   Not-in-family   White     Male             0   \n",
       "3   Handlers-cleaners         Husband   Black     Male             0   \n",
       "4      Prof-specialty            Wife   Black   Female             0   \n",
       "\n",
       "   capital_loss  hours_per_week  native_country  income_bracket  \n",
       "0             0              40   United-States               0  \n",
       "1             0              13   United-States               0  \n",
       "2             0              40   United-States               0  \n",
       "3             0              40   United-States               0  \n",
       "4             0              40            Cuba               0  "
      ]
     },
     "execution_count": 7,
     "metadata": {},
     "output_type": "execute_result"
    }
   ],
   "source": [
    "census.head()"
   ]
  },
  {
   "cell_type": "markdown",
   "metadata": {},
   "source": [
    "### Perform a Train Test Split on the Data"
   ]
  },
  {
   "cell_type": "code",
   "execution_count": 9,
   "metadata": {},
   "outputs": [],
   "source": [
    "from sklearn.model_selection import train_test_split"
   ]
  },
  {
   "cell_type": "code",
   "execution_count": 10,
   "metadata": {
    "collapsed": true
   },
   "outputs": [],
   "source": [
    "x_data = census.drop(\"income_bracket\", axis=1)\n",
    "y_labels = census[\"income_bracket\"]\n",
    "X_train, X_test, y_train, y_test = train_test_split(x_data, y_labels,test_size=0.3, random_state=42)"
   ]
  },
  {
   "cell_type": "markdown",
   "metadata": {},
   "source": [
    "### Create the Feature Columns for tf.esitmator\n",
    "\n",
    "** Take note of categorical vs continuous values! **"
   ]
  },
  {
   "cell_type": "code",
   "execution_count": 11,
   "metadata": {},
   "outputs": [
    {
     "data": {
      "text/plain": [
       "Index(['age', 'workclass', 'education', 'education_num', 'marital_status',\n",
       "       'occupation', 'relationship', 'race', 'gender', 'capital_gain',\n",
       "       'capital_loss', 'hours_per_week', 'native_country'],\n",
       "      dtype='object')"
      ]
     },
     "execution_count": 11,
     "metadata": {},
     "output_type": "execute_result"
    }
   ],
   "source": [
    "x_data.columns"
   ]
  },
  {
   "cell_type": "markdown",
   "metadata": {},
   "source": [
    "** Import Tensorflow **"
   ]
  },
  {
   "cell_type": "code",
   "execution_count": 14,
   "metadata": {
    "collapsed": true
   },
   "outputs": [],
   "source": []
  },
  {
   "cell_type": "markdown",
   "metadata": {
    "collapsed": true
   },
   "source": [
    "** Create the tf.feature_columns for the categorical values. Use vocabulary lists or just use hash buckets. **"
   ]
  },
  {
   "cell_type": "code",
   "execution_count": 12,
   "metadata": {
    "collapsed": true
   },
   "outputs": [],
   "source": [
    "gender = tf.feature_column.categorical_column_with_vocabulary_list(\"gender\", [\"Female\", \"Male\"])\n",
    "occupation = tf.feature_column.categorical_column_with_hash_bucket(\"occupation\", hash_bucket_size=1000)\n",
    "marital_status = tf.feature_column.categorical_column_with_hash_bucket(\"marital_status\", hash_bucket_size=1000)\n",
    "relationship = tf.feature_column.categorical_column_with_hash_bucket(\"relationship\", hash_bucket_size=1000)\n",
    "education = tf.feature_column.categorical_column_with_hash_bucket(\"education\", hash_bucket_size=1000)\n",
    "workclass = tf.feature_column.categorical_column_with_hash_bucket(\"workclass\", hash_bucket_size=1000)\n",
    "native_country = tf.feature_column.categorical_column_with_hash_bucket(\"native_country\", hash_bucket_size=1000)"
   ]
  },
  {
   "cell_type": "markdown",
   "metadata": {},
   "source": [
    "** Create the continuous feature_columns for the continuous values using numeric_column **"
   ]
  },
  {
   "cell_type": "code",
   "execution_count": 13,
   "metadata": {
    "collapsed": true
   },
   "outputs": [],
   "source": [
    "age = tf.feature_column.numeric_column(\"age\")\n",
    "education_num = tf.feature_column.numeric_column(\"education_num\")\n",
    "capital_gain = tf.feature_column.numeric_column(\"capital_gain\")\n",
    "capital_loss = tf.feature_column.numeric_column(\"capital_loss\")\n",
    "hours_per_week = tf.feature_column.numeric_column(\"hours_per_week\")"
   ]
  },
  {
   "cell_type": "markdown",
   "metadata": {},
   "source": [
    "** Put all these variables into a single list with the variable name feat_cols **"
   ]
  },
  {
   "cell_type": "code",
   "execution_count": 14,
   "metadata": {
    "collapsed": true
   },
   "outputs": [],
   "source": [
    "feat_cols = [gender,occupation,marital_status,relationship,education,workclass,native_country,\n",
    "            age,education_num,capital_gain,capital_loss,hours_per_week]"
   ]
  },
  {
   "cell_type": "markdown",
   "metadata": {},
   "source": [
    "### Create Input Function\n",
    "\n",
    "** Batch_size is up to you. But do make sure to shuffle!**"
   ]
  },
  {
   "cell_type": "code",
   "execution_count": 15,
   "metadata": {
    "collapsed": true
   },
   "outputs": [],
   "source": [
    "input_func = tf.estimator.inputs.pandas_input_fn(X_train, y_train, batch_size=10, num_epochs=1000, shuffle=True)"
   ]
  },
  {
   "cell_type": "markdown",
   "metadata": {},
   "source": [
    "#### Create your model with tf.estimator\n",
    "\n",
    "**Create a LinearClassifier.(If you want to use a DNNClassifier, keep in mind you'll need to create embedded columns out of the cateogrical feature that use strings, check out the previous lecture on this for more info.)**"
   ]
  },
  {
   "cell_type": "code",
   "execution_count": 16,
   "metadata": {},
   "outputs": [
    {
     "name": "stdout",
     "output_type": "stream",
     "text": [
      "INFO:tensorflow:Using default config.\n",
      "WARNING:tensorflow:Using temporary folder as model directory: C:\\Users\\zEros\\AppData\\Local\\Temp\\tmp3rmxvvz6\n",
      "INFO:tensorflow:Using config: {'_model_dir': 'C:\\\\Users\\\\zEros\\\\AppData\\\\Local\\\\Temp\\\\tmp3rmxvvz6', '_tf_random_seed': None, '_save_summary_steps': 100, '_save_checkpoints_steps': None, '_save_checkpoints_secs': 600, '_session_config': allow_soft_placement: true\n",
      "graph_options {\n",
      "  rewrite_options {\n",
      "    meta_optimizer_iterations: ONE\n",
      "  }\n",
      "}\n",
      ", '_keep_checkpoint_max': 5, '_keep_checkpoint_every_n_hours': 10000, '_log_step_count_steps': 100, '_train_distribute': None, '_device_fn': None, '_protocol': None, '_eval_distribute': None, '_experimental_distribute': None, '_service': None, '_cluster_spec': <tensorflow.python.training.server_lib.ClusterSpec object at 0x000001E4B18B3080>, '_task_type': 'worker', '_task_id': 0, '_global_id_in_cluster': 0, '_master': '', '_evaluation_master': '', '_is_chief': True, '_num_ps_replicas': 0, '_num_worker_replicas': 1}\n"
     ]
    }
   ],
   "source": [
    "model = tf.estimator.LinearClassifier(feat_cols)"
   ]
  },
  {
   "cell_type": "markdown",
   "metadata": {},
   "source": [
    "** Train your model on the data, for at least 5000 steps. **"
   ]
  },
  {
   "cell_type": "code",
   "execution_count": 17,
   "metadata": {},
   "outputs": [
    {
     "name": "stdout",
     "output_type": "stream",
     "text": [
      "WARNING:tensorflow:From C:\\Users\\zEros\\Anaconda3\\lib\\site-packages\\tensorflow\\python\\estimator\\inputs\\queues\\feeding_queue_runner.py:62: QueueRunner.__init__ (from tensorflow.python.training.queue_runner_impl) is deprecated and will be removed in a future version.\n",
      "Instructions for updating:\n",
      "To construct input pipelines, use the `tf.data` module.\n",
      "WARNING:tensorflow:From C:\\Users\\zEros\\Anaconda3\\lib\\site-packages\\tensorflow\\python\\estimator\\inputs\\queues\\feeding_functions.py:500: add_queue_runner (from tensorflow.python.training.queue_runner_impl) is deprecated and will be removed in a future version.\n",
      "Instructions for updating:\n",
      "To construct input pipelines, use the `tf.data` module.\n",
      "INFO:tensorflow:Calling model_fn.\n",
      "INFO:tensorflow:Done calling model_fn.\n",
      "INFO:tensorflow:Create CheckpointSaverHook.\n",
      "INFO:tensorflow:Graph was finalized.\n",
      "INFO:tensorflow:Running local_init_op.\n",
      "INFO:tensorflow:Done running local_init_op.\n",
      "WARNING:tensorflow:From C:\\Users\\zEros\\Anaconda3\\lib\\site-packages\\tensorflow\\python\\training\\monitored_session.py:804: start_queue_runners (from tensorflow.python.training.queue_runner_impl) is deprecated and will be removed in a future version.\n",
      "Instructions for updating:\n",
      "To construct input pipelines, use the `tf.data` module.\n",
      "INFO:tensorflow:Saving checkpoints for 0 into C:\\Users\\zEros\\AppData\\Local\\Temp\\tmp3rmxvvz6\\model.ckpt.\n",
      "INFO:tensorflow:loss = 6.931472, step = 1\n",
      "INFO:tensorflow:global_step/sec: 161.622\n",
      "INFO:tensorflow:loss = 3.8735752, step = 101 (0.627 sec)\n",
      "INFO:tensorflow:global_step/sec: 405.336\n",
      "INFO:tensorflow:loss = 2.185083, step = 201 (0.244 sec)\n",
      "INFO:tensorflow:global_step/sec: 380.322\n",
      "INFO:tensorflow:loss = 18.73376, step = 301 (0.266 sec)\n",
      "INFO:tensorflow:global_step/sec: 392.106\n",
      "INFO:tensorflow:loss = 632.4766, step = 401 (0.253 sec)\n",
      "INFO:tensorflow:global_step/sec: 375.443\n",
      "INFO:tensorflow:loss = 7.002123, step = 501 (0.270 sec)\n",
      "INFO:tensorflow:global_step/sec: 380.402\n",
      "INFO:tensorflow:loss = 4.696015, step = 601 (0.258 sec)\n",
      "INFO:tensorflow:global_step/sec: 357.413\n",
      "INFO:tensorflow:loss = 282.69168, step = 701 (0.282 sec)\n",
      "INFO:tensorflow:global_step/sec: 364.999\n",
      "INFO:tensorflow:loss = 11.331782, step = 801 (0.276 sec)\n",
      "INFO:tensorflow:global_step/sec: 361.976\n",
      "INFO:tensorflow:loss = 8.538832, step = 901 (0.273 sec)\n",
      "INFO:tensorflow:global_step/sec: 352.493\n",
      "INFO:tensorflow:loss = 7.042539, step = 1001 (0.284 sec)\n",
      "INFO:tensorflow:global_step/sec: 350.275\n",
      "INFO:tensorflow:loss = 3.5122967, step = 1101 (0.285 sec)\n",
      "INFO:tensorflow:global_step/sec: 352.176\n",
      "INFO:tensorflow:loss = 26.514639, step = 1201 (0.284 sec)\n",
      "INFO:tensorflow:global_step/sec: 349.805\n",
      "INFO:tensorflow:loss = 1312.0686, step = 1301 (0.291 sec)\n",
      "INFO:tensorflow:global_step/sec: 356.534\n",
      "INFO:tensorflow:loss = 4.725553, step = 1401 (0.275 sec)\n",
      "INFO:tensorflow:global_step/sec: 353.863\n",
      "INFO:tensorflow:loss = 1.887611, step = 1501 (0.283 sec)\n",
      "INFO:tensorflow:global_step/sec: 352.202\n",
      "INFO:tensorflow:loss = 1.638608, step = 1601 (0.285 sec)\n",
      "INFO:tensorflow:global_step/sec: 361.95\n",
      "INFO:tensorflow:loss = 4.4703817, step = 1701 (0.277 sec)\n",
      "INFO:tensorflow:global_step/sec: 351.137\n",
      "INFO:tensorflow:loss = 4.658592, step = 1801 (0.281 sec)\n",
      "INFO:tensorflow:global_step/sec: 347.885\n",
      "INFO:tensorflow:loss = 7.4984426, step = 1901 (0.291 sec)\n",
      "INFO:tensorflow:global_step/sec: 365.107\n",
      "INFO:tensorflow:loss = 1.3432051, step = 2001 (0.275 sec)\n",
      "INFO:tensorflow:global_step/sec: 360.961\n",
      "INFO:tensorflow:loss = 2.695209, step = 2101 (0.275 sec)\n",
      "INFO:tensorflow:global_step/sec: 348.713\n",
      "INFO:tensorflow:loss = 3.4223018, step = 2201 (0.287 sec)\n",
      "INFO:tensorflow:global_step/sec: 349.736\n",
      "INFO:tensorflow:loss = 2.5982356, step = 2301 (0.284 sec)\n",
      "INFO:tensorflow:global_step/sec: 351.502\n",
      "INFO:tensorflow:loss = 7.8013496, step = 2401 (0.286 sec)\n",
      "INFO:tensorflow:global_step/sec: 359.719\n",
      "INFO:tensorflow:loss = 1.8369873, step = 2501 (0.276 sec)\n",
      "INFO:tensorflow:global_step/sec: 334.622\n",
      "INFO:tensorflow:loss = 1.5943995, step = 2601 (0.300 sec)\n",
      "INFO:tensorflow:global_step/sec: 339.016\n",
      "INFO:tensorflow:loss = 163.42094, step = 2701 (0.297 sec)\n",
      "INFO:tensorflow:global_step/sec: 344.868\n",
      "INFO:tensorflow:loss = 0.8735512, step = 2801 (0.286 sec)\n",
      "INFO:tensorflow:global_step/sec: 357.273\n",
      "INFO:tensorflow:loss = 30.453249, step = 2901 (0.285 sec)\n",
      "INFO:tensorflow:global_step/sec: 358.663\n",
      "INFO:tensorflow:loss = 15.832262, step = 3001 (0.276 sec)\n",
      "INFO:tensorflow:global_step/sec: 353.398\n",
      "INFO:tensorflow:loss = 1.5228848, step = 3101 (0.285 sec)\n",
      "INFO:tensorflow:global_step/sec: 348.465\n",
      "INFO:tensorflow:loss = 0.81806254, step = 3201 (0.285 sec)\n",
      "INFO:tensorflow:global_step/sec: 359.798\n",
      "INFO:tensorflow:loss = 11.879788, step = 3301 (0.281 sec)\n",
      "INFO:tensorflow:global_step/sec: 361.78\n",
      "INFO:tensorflow:loss = 10.44517, step = 3401 (0.273 sec)\n",
      "INFO:tensorflow:global_step/sec: 352.585\n",
      "INFO:tensorflow:loss = 4.582826, step = 3501 (0.284 sec)\n",
      "INFO:tensorflow:global_step/sec: 358.697\n",
      "INFO:tensorflow:loss = 4.597509, step = 3601 (0.279 sec)\n",
      "INFO:tensorflow:global_step/sec: 349.575\n",
      "INFO:tensorflow:loss = 10.0697775, step = 3701 (0.287 sec)\n",
      "INFO:tensorflow:global_step/sec: 354.923\n",
      "INFO:tensorflow:loss = 120.69339, step = 3801 (0.281 sec)\n",
      "INFO:tensorflow:global_step/sec: 364.611\n",
      "INFO:tensorflow:loss = 1.3642539, step = 3901 (0.274 sec)\n",
      "INFO:tensorflow:global_step/sec: 358.648\n",
      "INFO:tensorflow:loss = 1.5196347, step = 4001 (0.279 sec)\n",
      "INFO:tensorflow:global_step/sec: 355.736\n",
      "INFO:tensorflow:loss = 9.666481, step = 4101 (0.283 sec)\n",
      "INFO:tensorflow:global_step/sec: 351.102\n",
      "INFO:tensorflow:loss = 5.734122, step = 4201 (0.283 sec)\n",
      "INFO:tensorflow:global_step/sec: 363.281\n",
      "INFO:tensorflow:loss = 1.2103013, step = 4301 (0.275 sec)\n",
      "INFO:tensorflow:global_step/sec: 356.334\n",
      "INFO:tensorflow:loss = 2.9399426, step = 4401 (0.286 sec)\n",
      "INFO:tensorflow:global_step/sec: 356.154\n",
      "INFO:tensorflow:loss = 7.6309495, step = 4501 (0.275 sec)\n",
      "INFO:tensorflow:global_step/sec: 348.708\n",
      "INFO:tensorflow:loss = 11.714629, step = 4601 (0.291 sec)\n",
      "INFO:tensorflow:global_step/sec: 338.703\n",
      "INFO:tensorflow:loss = 2.1990395, step = 4701 (0.290 sec)\n",
      "INFO:tensorflow:global_step/sec: 346.341\n",
      "INFO:tensorflow:loss = 2.0960507, step = 4801 (0.296 sec)\n",
      "INFO:tensorflow:global_step/sec: 335.014\n",
      "INFO:tensorflow:loss = 1.1870012, step = 4901 (0.292 sec)\n",
      "INFO:tensorflow:global_step/sec: 354.579\n",
      "INFO:tensorflow:loss = 1.072157, step = 5001 (0.282 sec)\n",
      "INFO:tensorflow:global_step/sec: 352.76\n",
      "INFO:tensorflow:loss = 3.217508, step = 5101 (0.285 sec)\n",
      "INFO:tensorflow:global_step/sec: 364.85\n",
      "INFO:tensorflow:loss = 1.4704087, step = 5201 (0.276 sec)\n",
      "INFO:tensorflow:global_step/sec: 359.941\n",
      "INFO:tensorflow:loss = 5.6487365, step = 5301 (0.279 sec)\n",
      "INFO:tensorflow:global_step/sec: 339.196\n",
      "INFO:tensorflow:loss = 21.6892, step = 5401 (0.293 sec)\n",
      "INFO:tensorflow:global_step/sec: 344.561\n",
      "INFO:tensorflow:loss = 0.79974806, step = 5501 (0.289 sec)\n",
      "INFO:tensorflow:global_step/sec: 360.823\n",
      "INFO:tensorflow:loss = 0.24534142, step = 5601 (0.277 sec)\n",
      "INFO:tensorflow:global_step/sec: 359.989\n",
      "INFO:tensorflow:loss = 2.7874565, step = 5701 (0.279 sec)\n",
      "INFO:tensorflow:global_step/sec: 365.701\n",
      "INFO:tensorflow:loss = 0.24614134, step = 5801 (0.273 sec)\n",
      "INFO:tensorflow:global_step/sec: 359.75\n",
      "INFO:tensorflow:loss = 1.3764515, step = 5901 (0.277 sec)\n",
      "INFO:tensorflow:global_step/sec: 353.525\n",
      "INFO:tensorflow:loss = 0.39573777, step = 6001 (0.282 sec)\n",
      "INFO:tensorflow:global_step/sec: 371.745\n",
      "INFO:tensorflow:loss = 31.62711, step = 6101 (0.270 sec)\n",
      "INFO:tensorflow:global_step/sec: 359.989\n",
      "INFO:tensorflow:loss = 0.8980776, step = 6201 (0.281 sec)\n",
      "INFO:tensorflow:global_step/sec: 357.066\n",
      "INFO:tensorflow:loss = 2.6695464, step = 6301 (0.277 sec)\n",
      "INFO:tensorflow:global_step/sec: 362.396\n",
      "INFO:tensorflow:loss = 4.580695, step = 6401 (0.276 sec)\n",
      "INFO:tensorflow:global_step/sec: 361.232\n",
      "INFO:tensorflow:loss = 6.5755944, step = 6501 (0.277 sec)\n",
      "INFO:tensorflow:global_step/sec: 361.02\n",
      "INFO:tensorflow:loss = 6.6930623, step = 6601 (0.277 sec)\n",
      "INFO:tensorflow:global_step/sec: 356.568\n",
      "INFO:tensorflow:loss = 11.483282, step = 6701 (0.279 sec)\n",
      "INFO:tensorflow:global_step/sec: 362.457\n",
      "INFO:tensorflow:loss = 0.3181908, step = 6801 (0.277 sec)\n",
      "INFO:tensorflow:global_step/sec: 358.654\n",
      "INFO:tensorflow:loss = 4.365303, step = 6901 (0.282 sec)\n"
     ]
    },
    {
     "name": "stdout",
     "output_type": "stream",
     "text": [
      "INFO:tensorflow:global_step/sec: 356.14\n",
      "INFO:tensorflow:loss = 3.5790997, step = 7001 (0.281 sec)\n",
      "INFO:tensorflow:global_step/sec: 355.739\n",
      "INFO:tensorflow:loss = 7.897356, step = 7101 (0.277 sec)\n",
      "INFO:tensorflow:global_step/sec: 364.444\n",
      "INFO:tensorflow:loss = 64.952774, step = 7201 (0.276 sec)\n",
      "INFO:tensorflow:global_step/sec: 359.709\n",
      "INFO:tensorflow:loss = 6.937285, step = 7301 (0.280 sec)\n",
      "INFO:tensorflow:global_step/sec: 352.204\n",
      "INFO:tensorflow:loss = 5.928409, step = 7401 (0.283 sec)\n",
      "INFO:tensorflow:global_step/sec: 355.937\n",
      "INFO:tensorflow:loss = 1.7235847, step = 7501 (0.279 sec)\n",
      "INFO:tensorflow:global_step/sec: 352.331\n",
      "INFO:tensorflow:loss = 3.152861, step = 7601 (0.284 sec)\n",
      "INFO:tensorflow:global_step/sec: 361.563\n",
      "INFO:tensorflow:loss = 4.4116764, step = 7701 (0.277 sec)\n",
      "INFO:tensorflow:global_step/sec: 354.662\n",
      "INFO:tensorflow:loss = 7.4353466, step = 7801 (0.282 sec)\n",
      "INFO:tensorflow:global_step/sec: 363.881\n",
      "INFO:tensorflow:loss = 0.99064255, step = 7901 (0.275 sec)\n",
      "INFO:tensorflow:global_step/sec: 357.156\n",
      "INFO:tensorflow:loss = 2.2880857, step = 8001 (0.282 sec)\n",
      "INFO:tensorflow:global_step/sec: 359.709\n",
      "INFO:tensorflow:loss = 7.2739005, step = 8101 (0.277 sec)\n",
      "INFO:tensorflow:global_step/sec: 361.276\n",
      "INFO:tensorflow:loss = 2.5377882, step = 8201 (0.276 sec)\n",
      "INFO:tensorflow:global_step/sec: 359.444\n",
      "INFO:tensorflow:loss = 3.0519164, step = 8301 (0.278 sec)\n",
      "INFO:tensorflow:global_step/sec: 360.854\n",
      "INFO:tensorflow:loss = 5.039368, step = 8401 (0.280 sec)\n",
      "INFO:tensorflow:global_step/sec: 363.91\n",
      "INFO:tensorflow:loss = 3.399646, step = 8501 (0.273 sec)\n",
      "INFO:tensorflow:global_step/sec: 365.25\n",
      "INFO:tensorflow:loss = 0.84852064, step = 8601 (0.276 sec)\n",
      "INFO:tensorflow:global_step/sec: 362.494\n",
      "INFO:tensorflow:loss = 7.610395, step = 8701 (0.271 sec)\n",
      "INFO:tensorflow:global_step/sec: 369.116\n",
      "INFO:tensorflow:loss = 3.2286024, step = 8801 (0.274 sec)\n",
      "INFO:tensorflow:global_step/sec: 357.916\n",
      "INFO:tensorflow:loss = 4.3905134, step = 8901 (0.279 sec)\n",
      "INFO:tensorflow:global_step/sec: 356.089\n",
      "INFO:tensorflow:loss = 6.7670975, step = 9001 (0.280 sec)\n",
      "INFO:tensorflow:global_step/sec: 356.856\n",
      "INFO:tensorflow:loss = 2.6871405, step = 9101 (0.281 sec)\n",
      "INFO:tensorflow:global_step/sec: 350.971\n",
      "INFO:tensorflow:loss = 7.1844287, step = 9201 (0.282 sec)\n",
      "INFO:tensorflow:global_step/sec: 365.098\n",
      "INFO:tensorflow:loss = 2.5688255, step = 9301 (0.278 sec)\n",
      "INFO:tensorflow:global_step/sec: 358.619\n",
      "INFO:tensorflow:loss = 9.679328, step = 9401 (0.278 sec)\n",
      "INFO:tensorflow:global_step/sec: 354.58\n",
      "INFO:tensorflow:loss = 5.0608134, step = 9501 (0.282 sec)\n",
      "INFO:tensorflow:global_step/sec: 360.903\n",
      "INFO:tensorflow:loss = 6.01404, step = 9601 (0.279 sec)\n",
      "INFO:tensorflow:global_step/sec: 351.483\n",
      "INFO:tensorflow:loss = 54.68332, step = 9701 (0.283 sec)\n",
      "INFO:tensorflow:global_step/sec: 359.887\n",
      "INFO:tensorflow:loss = 6.3758116, step = 9801 (0.282 sec)\n",
      "INFO:tensorflow:global_step/sec: 365.203\n",
      "INFO:tensorflow:loss = 2.4266772, step = 9901 (0.271 sec)\n",
      "INFO:tensorflow:Saving checkpoints for 10000 into C:\\Users\\zEros\\AppData\\Local\\Temp\\tmp3rmxvvz6\\model.ckpt.\n",
      "INFO:tensorflow:Loss for final step: 1.9667981.\n"
     ]
    },
    {
     "data": {
      "text/plain": [
       "<tensorflow.python.estimator.canned.linear.LinearClassifier at 0x1e4b18b5470>"
      ]
     },
     "execution_count": 17,
     "metadata": {},
     "output_type": "execute_result"
    }
   ],
   "source": [
    "model.train(input_func, steps=10000)"
   ]
  },
  {
   "cell_type": "markdown",
   "metadata": {},
   "source": [
    "### Evaluation\n",
    "\n",
    "** Create a prediction input function. Remember to only supprt X_test data and keep shuffle=False. **"
   ]
  },
  {
   "cell_type": "code",
   "execution_count": 22,
   "metadata": {
    "collapsed": true
   },
   "outputs": [],
   "source": [
    "pred_input_func = tf.estimator.inputs.pandas_input_fn(X_test, y_test, batch_size=10, shuffle=False)"
   ]
  },
  {
   "cell_type": "markdown",
   "metadata": {},
   "source": [
    "** Use model.predict() and pass in your input function. This will produce a generator of predictions, which you can then transform into a list, with list() **"
   ]
  },
  {
   "cell_type": "code",
   "execution_count": 24,
   "metadata": {},
   "outputs": [
    {
     "name": "stdout",
     "output_type": "stream",
     "text": [
      "INFO:tensorflow:Calling model_fn.\n",
      "INFO:tensorflow:Done calling model_fn.\n",
      "INFO:tensorflow:Graph was finalized.\n",
      "INFO:tensorflow:Restoring parameters from C:\\Users\\zEros\\AppData\\Local\\Temp\\tmp3rmxvvz6\\model.ckpt-10000\n",
      "INFO:tensorflow:Running local_init_op.\n",
      "INFO:tensorflow:Done running local_init_op.\n"
     ]
    }
   ],
   "source": [
    "results = list(model.predict(pred_input_func))"
   ]
  },
  {
   "cell_type": "markdown",
   "metadata": {},
   "source": [
    "** Each item in your list will look like this: **"
   ]
  },
  {
   "cell_type": "code",
   "execution_count": 25,
   "metadata": {},
   "outputs": [
    {
     "data": {
      "text/plain": [
       "{'class_ids': array([0], dtype=int64),\n",
       " 'classes': array([b'0'], dtype=object),\n",
       " 'logistic': array([0.01254347], dtype=float32),\n",
       " 'logits': array([-4.3659325], dtype=float32),\n",
       " 'probabilities': array([0.9874565 , 0.01254347], dtype=float32)}"
      ]
     },
     "execution_count": 25,
     "metadata": {},
     "output_type": "execute_result"
    }
   ],
   "source": [
    "results[0]"
   ]
  },
  {
   "cell_type": "markdown",
   "metadata": {},
   "source": [
    "** Create a list of only the class_ids key values from the prediction list of dictionaries, these are the predictions you will use to compare against the real y_test values. **"
   ]
  },
  {
   "cell_type": "code",
   "execution_count": 26,
   "metadata": {
    "collapsed": true
   },
   "outputs": [],
   "source": [
    "predictions = []\n",
    "for pred in results:\n",
    "    predictions.append(pred[\"class_ids\"][0])"
   ]
  },
  {
   "cell_type": "code",
   "execution_count": 30,
   "metadata": {},
   "outputs": [
    {
     "data": {
      "text/plain": [
       "[0, 0, 1, 0, 0, 1, 1, 0, 0, 1]"
      ]
     },
     "execution_count": 30,
     "metadata": {},
     "output_type": "execute_result"
    }
   ],
   "source": [
    "predictions[:10]"
   ]
  },
  {
   "cell_type": "markdown",
   "metadata": {},
   "source": [
    "** Import classification_report from sklearn.metrics and then see if you can figure out how to use it to easily get a full report of your model's performance on the test data. **"
   ]
  },
  {
   "cell_type": "code",
   "execution_count": 32,
   "metadata": {
    "collapsed": true
   },
   "outputs": [],
   "source": [
    "from sklearn.metrics import classification_report"
   ]
  },
  {
   "cell_type": "code",
   "execution_count": 33,
   "metadata": {},
   "outputs": [
    {
     "name": "stdout",
     "output_type": "stream",
     "text": [
      "             precision    recall  f1-score   support\n",
      "\n",
      "          0       0.88      0.93      0.90      7455\n",
      "          1       0.71      0.59      0.65      2314\n",
      "\n",
      "avg / total       0.84      0.85      0.84      9769\n",
      "\n"
     ]
    }
   ],
   "source": [
    "print(classification_report(y_test,predictions))"
   ]
  },
  {
   "cell_type": "markdown",
   "metadata": {
    "collapsed": true
   },
   "source": [
    "# Great Job!"
   ]
  }
 ],
 "metadata": {
  "kernelspec": {
   "display_name": "Python 3",
   "language": "python",
   "name": "python3"
  },
  "language_info": {
   "codemirror_mode": {
    "name": "ipython",
    "version": 3
   },
   "file_extension": ".py",
   "mimetype": "text/x-python",
   "name": "python",
   "nbconvert_exporter": "python",
   "pygments_lexer": "ipython3",
   "version": "3.6.6"
  }
 },
 "nbformat": 4,
 "nbformat_minor": 2
}
