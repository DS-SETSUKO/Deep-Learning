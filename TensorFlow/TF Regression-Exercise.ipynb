{
 "cells": [
  {
   "cell_type": "markdown",
   "metadata": {},
   "source": [
    "# Regression Exercise \n",
    "\n",
    "California Housing Data\n",
    "\n",
    "This data set contains information about all the block groups in California from the 1990 Census. In this sample a block group on average includes 1425.5 individuals living in a geographically compact area. \n",
    "\n",
    "The task is to aproximate the median house value of each block from the values of the rest of the variables. \n",
    "\n",
    " It has been obtained from the LIACC repository. The original page where the data set can be found is: http://www.liaad.up.pt/~ltorgo/Regression/DataSets.html.\n",
    " "
   ]
  },
  {
   "cell_type": "markdown",
   "metadata": {
    "collapsed": true
   },
   "source": [
    "The Features:\n",
    " \n",
    "* housingMedianAge: continuous. \n",
    "* totalRooms: continuous. \n",
    "* totalBedrooms: continuous. \n",
    "* population: continuous. \n",
    "* households: continuous. \n",
    "* medianIncome: continuous. \n",
    "* medianHouseValue: continuous. "
   ]
  },
  {
   "cell_type": "markdown",
   "metadata": {},
   "source": [
    "## The Data"
   ]
  },
  {
   "cell_type": "markdown",
   "metadata": {},
   "source": [
    "** Import the cal_housing_clean.csv file with pandas. Separate it into a training (70%) and testing set(30%).**"
   ]
  },
  {
   "cell_type": "code",
   "execution_count": 1,
   "metadata": {
    "collapsed": true
   },
   "outputs": [],
   "source": [
    "import pandas as pd\n",
    "import tensorflow as tf\n",
    "from sklearn.model_selection import train_test_split"
   ]
  },
  {
   "cell_type": "code",
   "execution_count": 2,
   "metadata": {
    "collapsed": true
   },
   "outputs": [],
   "source": [
    "houses = pd.read_csv(\"cal_housing_clean.csv\")"
   ]
  },
  {
   "cell_type": "code",
   "execution_count": 3,
   "metadata": {},
   "outputs": [
    {
     "data": {
      "text/html": [
       "<div>\n",
       "<style scoped>\n",
       "    .dataframe tbody tr th:only-of-type {\n",
       "        vertical-align: middle;\n",
       "    }\n",
       "\n",
       "    .dataframe tbody tr th {\n",
       "        vertical-align: top;\n",
       "    }\n",
       "\n",
       "    .dataframe thead th {\n",
       "        text-align: right;\n",
       "    }\n",
       "</style>\n",
       "<table border=\"1\" class=\"dataframe\">\n",
       "  <thead>\n",
       "    <tr style=\"text-align: right;\">\n",
       "      <th></th>\n",
       "      <th>housingMedianAge</th>\n",
       "      <th>totalRooms</th>\n",
       "      <th>totalBedrooms</th>\n",
       "      <th>population</th>\n",
       "      <th>households</th>\n",
       "      <th>medianIncome</th>\n",
       "      <th>medianHouseValue</th>\n",
       "    </tr>\n",
       "  </thead>\n",
       "  <tbody>\n",
       "    <tr>\n",
       "      <th>0</th>\n",
       "      <td>41.0</td>\n",
       "      <td>880.0</td>\n",
       "      <td>129.0</td>\n",
       "      <td>322.0</td>\n",
       "      <td>126.0</td>\n",
       "      <td>8.3252</td>\n",
       "      <td>452600.0</td>\n",
       "    </tr>\n",
       "    <tr>\n",
       "      <th>1</th>\n",
       "      <td>21.0</td>\n",
       "      <td>7099.0</td>\n",
       "      <td>1106.0</td>\n",
       "      <td>2401.0</td>\n",
       "      <td>1138.0</td>\n",
       "      <td>8.3014</td>\n",
       "      <td>358500.0</td>\n",
       "    </tr>\n",
       "    <tr>\n",
       "      <th>2</th>\n",
       "      <td>52.0</td>\n",
       "      <td>1467.0</td>\n",
       "      <td>190.0</td>\n",
       "      <td>496.0</td>\n",
       "      <td>177.0</td>\n",
       "      <td>7.2574</td>\n",
       "      <td>352100.0</td>\n",
       "    </tr>\n",
       "    <tr>\n",
       "      <th>3</th>\n",
       "      <td>52.0</td>\n",
       "      <td>1274.0</td>\n",
       "      <td>235.0</td>\n",
       "      <td>558.0</td>\n",
       "      <td>219.0</td>\n",
       "      <td>5.6431</td>\n",
       "      <td>341300.0</td>\n",
       "    </tr>\n",
       "    <tr>\n",
       "      <th>4</th>\n",
       "      <td>52.0</td>\n",
       "      <td>1627.0</td>\n",
       "      <td>280.0</td>\n",
       "      <td>565.0</td>\n",
       "      <td>259.0</td>\n",
       "      <td>3.8462</td>\n",
       "      <td>342200.0</td>\n",
       "    </tr>\n",
       "  </tbody>\n",
       "</table>\n",
       "</div>"
      ],
      "text/plain": [
       "   housingMedianAge  totalRooms  totalBedrooms  population  households  \\\n",
       "0              41.0       880.0          129.0       322.0       126.0   \n",
       "1              21.0      7099.0         1106.0      2401.0      1138.0   \n",
       "2              52.0      1467.0          190.0       496.0       177.0   \n",
       "3              52.0      1274.0          235.0       558.0       219.0   \n",
       "4              52.0      1627.0          280.0       565.0       259.0   \n",
       "\n",
       "   medianIncome  medianHouseValue  \n",
       "0        8.3252          452600.0  \n",
       "1        8.3014          358500.0  \n",
       "2        7.2574          352100.0  \n",
       "3        5.6431          341300.0  \n",
       "4        3.8462          342200.0  "
      ]
     },
     "execution_count": 3,
     "metadata": {},
     "output_type": "execute_result"
    }
   ],
   "source": [
    "houses.head()"
   ]
  },
  {
   "cell_type": "code",
   "execution_count": 4,
   "metadata": {},
   "outputs": [
    {
     "data": {
      "text/html": [
       "<div>\n",
       "<style scoped>\n",
       "    .dataframe tbody tr th:only-of-type {\n",
       "        vertical-align: middle;\n",
       "    }\n",
       "\n",
       "    .dataframe tbody tr th {\n",
       "        vertical-align: top;\n",
       "    }\n",
       "\n",
       "    .dataframe thead th {\n",
       "        text-align: right;\n",
       "    }\n",
       "</style>\n",
       "<table border=\"1\" class=\"dataframe\">\n",
       "  <thead>\n",
       "    <tr style=\"text-align: right;\">\n",
       "      <th></th>\n",
       "      <th>housingMedianAge</th>\n",
       "      <th>totalRooms</th>\n",
       "      <th>totalBedrooms</th>\n",
       "      <th>population</th>\n",
       "      <th>households</th>\n",
       "      <th>medianIncome</th>\n",
       "      <th>medianHouseValue</th>\n",
       "    </tr>\n",
       "  </thead>\n",
       "  <tbody>\n",
       "    <tr>\n",
       "      <th>count</th>\n",
       "      <td>20640.000000</td>\n",
       "      <td>20640.000000</td>\n",
       "      <td>20640.000000</td>\n",
       "      <td>20640.000000</td>\n",
       "      <td>20640.000000</td>\n",
       "      <td>20640.000000</td>\n",
       "      <td>20640.000000</td>\n",
       "    </tr>\n",
       "    <tr>\n",
       "      <th>mean</th>\n",
       "      <td>28.639486</td>\n",
       "      <td>2635.763081</td>\n",
       "      <td>537.898014</td>\n",
       "      <td>1425.476744</td>\n",
       "      <td>499.539680</td>\n",
       "      <td>3.870671</td>\n",
       "      <td>206855.816909</td>\n",
       "    </tr>\n",
       "    <tr>\n",
       "      <th>std</th>\n",
       "      <td>12.585558</td>\n",
       "      <td>2181.615252</td>\n",
       "      <td>421.247906</td>\n",
       "      <td>1132.462122</td>\n",
       "      <td>382.329753</td>\n",
       "      <td>1.899822</td>\n",
       "      <td>115395.615874</td>\n",
       "    </tr>\n",
       "    <tr>\n",
       "      <th>min</th>\n",
       "      <td>1.000000</td>\n",
       "      <td>2.000000</td>\n",
       "      <td>1.000000</td>\n",
       "      <td>3.000000</td>\n",
       "      <td>1.000000</td>\n",
       "      <td>0.499900</td>\n",
       "      <td>14999.000000</td>\n",
       "    </tr>\n",
       "    <tr>\n",
       "      <th>25%</th>\n",
       "      <td>18.000000</td>\n",
       "      <td>1447.750000</td>\n",
       "      <td>295.000000</td>\n",
       "      <td>787.000000</td>\n",
       "      <td>280.000000</td>\n",
       "      <td>2.563400</td>\n",
       "      <td>119600.000000</td>\n",
       "    </tr>\n",
       "    <tr>\n",
       "      <th>50%</th>\n",
       "      <td>29.000000</td>\n",
       "      <td>2127.000000</td>\n",
       "      <td>435.000000</td>\n",
       "      <td>1166.000000</td>\n",
       "      <td>409.000000</td>\n",
       "      <td>3.534800</td>\n",
       "      <td>179700.000000</td>\n",
       "    </tr>\n",
       "    <tr>\n",
       "      <th>75%</th>\n",
       "      <td>37.000000</td>\n",
       "      <td>3148.000000</td>\n",
       "      <td>647.000000</td>\n",
       "      <td>1725.000000</td>\n",
       "      <td>605.000000</td>\n",
       "      <td>4.743250</td>\n",
       "      <td>264725.000000</td>\n",
       "    </tr>\n",
       "    <tr>\n",
       "      <th>max</th>\n",
       "      <td>52.000000</td>\n",
       "      <td>39320.000000</td>\n",
       "      <td>6445.000000</td>\n",
       "      <td>35682.000000</td>\n",
       "      <td>6082.000000</td>\n",
       "      <td>15.000100</td>\n",
       "      <td>500001.000000</td>\n",
       "    </tr>\n",
       "  </tbody>\n",
       "</table>\n",
       "</div>"
      ],
      "text/plain": [
       "       housingMedianAge    totalRooms  totalBedrooms    population  \\\n",
       "count      20640.000000  20640.000000   20640.000000  20640.000000   \n",
       "mean          28.639486   2635.763081     537.898014   1425.476744   \n",
       "std           12.585558   2181.615252     421.247906   1132.462122   \n",
       "min            1.000000      2.000000       1.000000      3.000000   \n",
       "25%           18.000000   1447.750000     295.000000    787.000000   \n",
       "50%           29.000000   2127.000000     435.000000   1166.000000   \n",
       "75%           37.000000   3148.000000     647.000000   1725.000000   \n",
       "max           52.000000  39320.000000    6445.000000  35682.000000   \n",
       "\n",
       "         households  medianIncome  medianHouseValue  \n",
       "count  20640.000000  20640.000000      20640.000000  \n",
       "mean     499.539680      3.870671     206855.816909  \n",
       "std      382.329753      1.899822     115395.615874  \n",
       "min        1.000000      0.499900      14999.000000  \n",
       "25%      280.000000      2.563400     119600.000000  \n",
       "50%      409.000000      3.534800     179700.000000  \n",
       "75%      605.000000      4.743250     264725.000000  \n",
       "max     6082.000000     15.000100     500001.000000  "
      ]
     },
     "execution_count": 4,
     "metadata": {},
     "output_type": "execute_result"
    }
   ],
   "source": [
    "houses.describe()"
   ]
  },
  {
   "cell_type": "code",
   "execution_count": 5,
   "metadata": {
    "collapsed": true,
    "scrolled": true
   },
   "outputs": [],
   "source": [
    "label = houses[\"medianHouseValue\"]"
   ]
  },
  {
   "cell_type": "code",
   "execution_count": 6,
   "metadata": {
    "collapsed": true
   },
   "outputs": [],
   "source": [
    "features = houses.drop(\"medianHouseValue\", axis=1)"
   ]
  },
  {
   "cell_type": "code",
   "execution_count": 7,
   "metadata": {
    "collapsed": true
   },
   "outputs": [],
   "source": [
    "X_train, X_test, y_train, y_test = train_test_split(features, label, test_size=0.33)"
   ]
  },
  {
   "cell_type": "code",
   "execution_count": null,
   "metadata": {
    "collapsed": true
   },
   "outputs": [],
   "source": []
  },
  {
   "cell_type": "markdown",
   "metadata": {},
   "source": [
    "### Scale the Feature Data\n",
    "\n",
    "** Use sklearn preprocessing to create a MinMaxScaler for the feature data. Fit this scaler only to the training data. Then use it to transform X_test and X_train. Then use the scaled X_test and X_train along with pd.Dataframe to re-create two dataframes of scaled data.**"
   ]
  },
  {
   "cell_type": "code",
   "execution_count": 8,
   "metadata": {
    "collapsed": true
   },
   "outputs": [],
   "source": [
    "from sklearn.preprocessing import MinMaxScaler"
   ]
  },
  {
   "cell_type": "code",
   "execution_count": 9,
   "metadata": {
    "collapsed": true
   },
   "outputs": [],
   "source": [
    "scaler = MinMaxScaler()"
   ]
  },
  {
   "cell_type": "code",
   "execution_count": 10,
   "metadata": {},
   "outputs": [
    {
     "data": {
      "text/plain": [
       "MinMaxScaler(copy=True, feature_range=(0, 1))"
      ]
     },
     "execution_count": 10,
     "metadata": {},
     "output_type": "execute_result"
    }
   ],
   "source": [
    "scaler.fit(X_train)"
   ]
  },
  {
   "cell_type": "code",
   "execution_count": 12,
   "metadata": {
    "collapsed": true
   },
   "outputs": [],
   "source": [
    "X_train = pd.DataFrame(data=scaler.transform(X_train),columns = X_train.columns,index=X_train.index)"
   ]
  },
  {
   "cell_type": "code",
   "execution_count": 13,
   "metadata": {
    "collapsed": true
   },
   "outputs": [],
   "source": [
    "X_test = pd.DataFrame(data=scaler.transform(X_test),columns = X_test.columns,index=X_test.index)"
   ]
  },
  {
   "cell_type": "markdown",
   "metadata": {},
   "source": [
    "### Create Feature Columns\n",
    "\n",
    "** Create the necessary tf.feature_column objects for the estimator. They should all be trated as continuous numeric_columns. **"
   ]
  },
  {
   "cell_type": "code",
   "execution_count": 14,
   "metadata": {},
   "outputs": [
    {
     "data": {
      "text/plain": [
       "Index(['housingMedianAge', 'totalRooms', 'totalBedrooms', 'population',\n",
       "       'households', 'medianIncome', 'medianHouseValue'],\n",
       "      dtype='object')"
      ]
     },
     "execution_count": 14,
     "metadata": {},
     "output_type": "execute_result"
    }
   ],
   "source": [
    "houses.columns"
   ]
  },
  {
   "cell_type": "code",
   "execution_count": 16,
   "metadata": {
    "collapsed": true
   },
   "outputs": [],
   "source": [
    "age = tf.feature_column.numeric_column(\"housingMedianAge\")\n",
    "rooms = tf.feature_column.numeric_column(\"totalRooms\")\n",
    "bedrooms = tf.feature_column.numeric_column(\"totalBedrooms\")\n",
    "population = tf.feature_column.numeric_column(\"population\")\n",
    "households = tf.feature_column.numeric_column(\"households\")\n",
    "income = tf.feature_column.numeric_column(\"medianIncome\")"
   ]
  },
  {
   "cell_type": "code",
   "execution_count": 17,
   "metadata": {
    "collapsed": true
   },
   "outputs": [],
   "source": [
    "feat_cols = [age, rooms, bedrooms, population, households, income]"
   ]
  },
  {
   "cell_type": "code",
   "execution_count": 18,
   "metadata": {},
   "outputs": [
    {
     "data": {
      "text/plain": [
       "(13828,)"
      ]
     },
     "execution_count": 18,
     "metadata": {},
     "output_type": "execute_result"
    }
   ],
   "source": [
    "y_train.shape"
   ]
  },
  {
   "cell_type": "markdown",
   "metadata": {},
   "source": [
    "** Create the input function for the estimator object. (play around with batch_size and num_epochs)**"
   ]
  },
  {
   "cell_type": "code",
   "execution_count": 20,
   "metadata": {},
   "outputs": [],
   "source": [
    "input_func = tf.estimator.inputs.pandas_input_fn(X_train, y_train, batch_size=10, num_epochs=1000, shuffle=True)"
   ]
  },
  {
   "cell_type": "markdown",
   "metadata": {},
   "source": [
    "** Create the estimator model. Use a DNNRegressor. Play around with the hidden units! **"
   ]
  },
  {
   "cell_type": "code",
   "execution_count": 86,
   "metadata": {},
   "outputs": [
    {
     "name": "stdout",
     "output_type": "stream",
     "text": [
      "INFO:tensorflow:Using default config.\n",
      "WARNING:tensorflow:Using temporary folder as model directory: C:\\Users\\zEros\\AppData\\Local\\Temp\\tmpucxzmoxq\n",
      "INFO:tensorflow:Using config: {'_model_dir': 'C:\\\\Users\\\\zEros\\\\AppData\\\\Local\\\\Temp\\\\tmpucxzmoxq', '_tf_random_seed': None, '_save_summary_steps': 100, '_save_checkpoints_steps': None, '_save_checkpoints_secs': 600, '_session_config': allow_soft_placement: true\n",
      "graph_options {\n",
      "  rewrite_options {\n",
      "    meta_optimizer_iterations: ONE\n",
      "  }\n",
      "}\n",
      ", '_keep_checkpoint_max': 5, '_keep_checkpoint_every_n_hours': 10000, '_log_step_count_steps': 100, '_train_distribute': None, '_device_fn': None, '_protocol': None, '_eval_distribute': None, '_experimental_distribute': None, '_service': None, '_cluster_spec': <tensorflow.python.training.server_lib.ClusterSpec object at 0x0000015DDBB58748>, '_task_type': 'worker', '_task_id': 0, '_global_id_in_cluster': 0, '_master': '', '_evaluation_master': '', '_is_chief': True, '_num_ps_replicas': 0, '_num_worker_replicas': 1}\n"
     ]
    }
   ],
   "source": [
    "model = tf.estimator.DNNRegressor(hidden_units=[6, 10, 10, 10], feature_columns=feat_cols)"
   ]
  },
  {
   "cell_type": "markdown",
   "metadata": {},
   "source": [
    "##### ** Train the model for ~1,000 steps. (Later come back to this and train it for more and check for improvement) **"
   ]
  },
  {
   "cell_type": "code",
   "execution_count": 87,
   "metadata": {},
   "outputs": [
    {
     "name": "stdout",
     "output_type": "stream",
     "text": [
      "INFO:tensorflow:Calling model_fn.\n",
      "INFO:tensorflow:Done calling model_fn.\n",
      "INFO:tensorflow:Create CheckpointSaverHook.\n",
      "INFO:tensorflow:Graph was finalized.\n",
      "INFO:tensorflow:Running local_init_op.\n",
      "INFO:tensorflow:Done running local_init_op.\n",
      "INFO:tensorflow:Saving checkpoints for 0 into C:\\Users\\zEros\\AppData\\Local\\Temp\\tmpucxzmoxq\\model.ckpt.\n",
      "INFO:tensorflow:loss = 264859880000.0, step = 1\n",
      "INFO:tensorflow:global_step/sec: 387.135\n",
      "INFO:tensorflow:loss = 138865740000.0, step = 101 (0.260 sec)\n",
      "INFO:tensorflow:global_step/sec: 524.96\n",
      "INFO:tensorflow:loss = 76643700000.0, step = 201 (0.189 sec)\n",
      "INFO:tensorflow:global_step/sec: 547.904\n",
      "INFO:tensorflow:loss = 61515186000.0, step = 301 (0.185 sec)\n",
      "INFO:tensorflow:global_step/sec: 530.516\n",
      "INFO:tensorflow:loss = 173820120000.0, step = 401 (0.184 sec)\n",
      "INFO:tensorflow:global_step/sec: 569.698\n",
      "INFO:tensorflow:loss = 128618380000.0, step = 501 (0.182 sec)\n",
      "INFO:tensorflow:global_step/sec: 527.725\n",
      "INFO:tensorflow:loss = 127286755000.0, step = 601 (0.186 sec)\n",
      "INFO:tensorflow:global_step/sec: 536.196\n",
      "INFO:tensorflow:loss = 151815600000.0, step = 701 (0.187 sec)\n",
      "INFO:tensorflow:global_step/sec: 560.146\n",
      "INFO:tensorflow:loss = 131920770000.0, step = 801 (0.182 sec)\n",
      "INFO:tensorflow:global_step/sec: 519.522\n",
      "INFO:tensorflow:loss = 139632690000.0, step = 901 (0.188 sec)\n",
      "INFO:tensorflow:global_step/sec: 541.982\n",
      "INFO:tensorflow:loss = 79556750000.0, step = 1001 (0.186 sec)\n",
      "INFO:tensorflow:global_step/sec: 541.993\n",
      "INFO:tensorflow:loss = 150317220000.0, step = 1101 (0.185 sec)\n",
      "INFO:tensorflow:global_step/sec: 539.071\n",
      "INFO:tensorflow:loss = 89797380000.0, step = 1201 (0.186 sec)\n",
      "INFO:tensorflow:global_step/sec: 544.928\n",
      "INFO:tensorflow:loss = 56640586000.0, step = 1301 (0.184 sec)\n",
      "INFO:tensorflow:global_step/sec: 533.341\n",
      "INFO:tensorflow:loss = 118631310000.0, step = 1401 (0.186 sec)\n",
      "INFO:tensorflow:global_step/sec: 550.917\n",
      "INFO:tensorflow:loss = 85394120000.0, step = 1501 (0.187 sec)\n",
      "INFO:tensorflow:global_step/sec: 536.187\n",
      "INFO:tensorflow:loss = 61698617000.0, step = 1601 (0.183 sec)\n",
      "INFO:tensorflow:global_step/sec: 560.159\n",
      "INFO:tensorflow:loss = 83062735000.0, step = 1701 (0.180 sec)\n",
      "INFO:tensorflow:global_step/sec: 536.189\n",
      "INFO:tensorflow:loss = 56734523000.0, step = 1801 (0.189 sec)\n",
      "INFO:tensorflow:global_step/sec: 544.929\n",
      "INFO:tensorflow:loss = 69565650000.0, step = 1901 (0.183 sec)\n",
      "INFO:tensorflow:global_step/sec: 530.514\n",
      "INFO:tensorflow:loss = 101127315000.0, step = 2001 (0.186 sec)\n",
      "INFO:tensorflow:global_step/sec: 550.921\n",
      "INFO:tensorflow:loss = 34931060000.0, step = 2101 (0.184 sec)\n",
      "INFO:tensorflow:global_step/sec: 530.518\n",
      "INFO:tensorflow:loss = 79323860000.0, step = 2201 (0.187 sec)\n",
      "INFO:tensorflow:global_step/sec: 547.91\n",
      "INFO:tensorflow:loss = 87009270000.0, step = 2301 (0.184 sec)\n",
      "INFO:tensorflow:global_step/sec: 544.93\n",
      "INFO:tensorflow:loss = 31822416000.0, step = 2401 (0.185 sec)\n",
      "INFO:tensorflow:global_step/sec: 524.955\n",
      "INFO:tensorflow:loss = 94181080000.0, step = 2501 (0.187 sec)\n",
      "INFO:tensorflow:global_step/sec: 544.931\n",
      "INFO:tensorflow:loss = 44809355000.0, step = 2601 (0.184 sec)\n",
      "INFO:tensorflow:global_step/sec: 550.927\n",
      "INFO:tensorflow:loss = 85560310000.0, step = 2701 (0.182 sec)\n",
      "INFO:tensorflow:global_step/sec: 550.919\n",
      "INFO:tensorflow:loss = 122776620000.0, step = 2801 (0.184 sec)\n",
      "INFO:tensorflow:global_step/sec: 550.917\n",
      "INFO:tensorflow:loss = 121153495000.0, step = 2901 (0.183 sec)\n",
      "INFO:tensorflow:global_step/sec: 544.931\n",
      "INFO:tensorflow:loss = 149881210000.0, step = 3001 (0.182 sec)\n",
      "INFO:tensorflow:global_step/sec: 530.522\n",
      "INFO:tensorflow:loss = 56573180000.0, step = 3101 (0.190 sec)\n",
      "INFO:tensorflow:global_step/sec: 544.928\n",
      "INFO:tensorflow:loss = 64691876000.0, step = 3201 (0.184 sec)\n",
      "INFO:tensorflow:global_step/sec: 547.907\n",
      "INFO:tensorflow:loss = 46231716000.0, step = 3301 (0.183 sec)\n",
      "INFO:tensorflow:global_step/sec: 539.077\n",
      "INFO:tensorflow:loss = 53450840000.0, step = 3401 (0.186 sec)\n",
      "INFO:tensorflow:global_step/sec: 524.954\n",
      "INFO:tensorflow:loss = 67834440000.0, step = 3501 (0.189 sec)\n",
      "INFO:tensorflow:global_step/sec: 522.225\n",
      "INFO:tensorflow:loss = 33919169000.0, step = 3601 (0.190 sec)\n",
      "INFO:tensorflow:global_step/sec: 553.965\n",
      "INFO:tensorflow:loss = 48728388000.0, step = 3701 (0.183 sec)\n",
      "INFO:tensorflow:global_step/sec: 541.988\n",
      "INFO:tensorflow:loss = 44930417000.0, step = 3801 (0.182 sec)\n",
      "INFO:tensorflow:global_step/sec: 547.909\n",
      "INFO:tensorflow:loss = 44271305000.0, step = 3901 (0.186 sec)\n",
      "INFO:tensorflow:global_step/sec: 553.962\n",
      "INFO:tensorflow:loss = 41424757000.0, step = 4001 (0.183 sec)\n",
      "INFO:tensorflow:global_step/sec: 522.227\n",
      "INFO:tensorflow:loss = 56309270000.0, step = 4101 (0.186 sec)\n",
      "INFO:tensorflow:global_step/sec: 524.958\n",
      "INFO:tensorflow:loss = 190515970000.0, step = 4201 (0.191 sec)\n",
      "INFO:tensorflow:global_step/sec: 536.195\n",
      "INFO:tensorflow:loss = 116858480000.0, step = 4301 (0.186 sec)\n",
      "INFO:tensorflow:global_step/sec: 541.985\n",
      "INFO:tensorflow:loss = 75028460000.0, step = 4401 (0.187 sec)\n",
      "INFO:tensorflow:global_step/sec: 550.914\n",
      "INFO:tensorflow:loss = 37015126000.0, step = 4501 (0.184 sec)\n",
      "INFO:tensorflow:global_step/sec: 539.08\n",
      "INFO:tensorflow:loss = 38955196000.0, step = 4601 (0.184 sec)\n",
      "INFO:tensorflow:global_step/sec: 522.222\n",
      "INFO:tensorflow:loss = 99076830000.0, step = 4701 (0.189 sec)\n",
      "INFO:tensorflow:global_step/sec: 530.516\n",
      "INFO:tensorflow:loss = 54367630000.0, step = 4801 (0.197 sec)\n",
      "INFO:tensorflow:global_step/sec: 410.643\n",
      "INFO:tensorflow:loss = 39758540000.0, step = 4901 (0.239 sec)\n",
      "INFO:tensorflow:global_step/sec: 477.463\n",
      "INFO:tensorflow:loss = 68957340000.0, step = 5001 (0.210 sec)\n",
      "INFO:tensorflow:global_step/sec: 499.271\n",
      "INFO:tensorflow:loss = 81620320000.0, step = 5101 (0.196 sec)\n",
      "INFO:tensorflow:global_step/sec: 493.911\n",
      "INFO:tensorflow:loss = 48133790000.0, step = 5201 (0.203 sec)\n",
      "INFO:tensorflow:global_step/sec: 475.678\n",
      "INFO:tensorflow:loss = 32619274000.0, step = 5301 (0.209 sec)\n",
      "INFO:tensorflow:global_step/sec: 501.18\n",
      "INFO:tensorflow:loss = 79041730000.0, step = 5401 (0.202 sec)\n",
      "INFO:tensorflow:global_step/sec: 478.312\n",
      "INFO:tensorflow:loss = 111539724000.0, step = 5501 (0.206 sec)\n",
      "INFO:tensorflow:global_step/sec: 518.709\n",
      "INFO:tensorflow:loss = 153488080000.0, step = 5601 (0.196 sec)\n",
      "INFO:tensorflow:global_step/sec: 474.275\n",
      "INFO:tensorflow:loss = 106317870000.0, step = 5701 (0.208 sec)\n",
      "INFO:tensorflow:global_step/sec: 528.25\n",
      "INFO:tensorflow:loss = 58712973000.0, step = 5801 (0.194 sec)\n",
      "INFO:tensorflow:global_step/sec: 484.698\n",
      "INFO:tensorflow:loss = 151799700000.0, step = 5901 (0.202 sec)\n",
      "INFO:tensorflow:global_step/sec: 472.192\n",
      "INFO:tensorflow:loss = 52241527000.0, step = 6001 (0.213 sec)\n",
      "INFO:tensorflow:global_step/sec: 489.423\n",
      "INFO:tensorflow:loss = 54038690000.0, step = 6101 (0.206 sec)\n",
      "INFO:tensorflow:global_step/sec: 507.067\n",
      "INFO:tensorflow:loss = 141249970000.0, step = 6201 (0.196 sec)\n",
      "INFO:tensorflow:global_step/sec: 507.319\n",
      "INFO:tensorflow:loss = 85758660000.0, step = 6301 (0.199 sec)\n",
      "INFO:tensorflow:global_step/sec: 494.999\n",
      "INFO:tensorflow:loss = 28375294000.0, step = 6401 (0.199 sec)\n",
      "INFO:tensorflow:global_step/sec: 513.069\n",
      "INFO:tensorflow:loss = 90337940000.0, step = 6501 (0.196 sec)\n",
      "INFO:tensorflow:global_step/sec: 481.344\n",
      "INFO:tensorflow:loss = 134129480000.0, step = 6601 (0.205 sec)\n",
      "INFO:tensorflow:global_step/sec: 520.589\n",
      "INFO:tensorflow:loss = 42360685000.0, step = 6701 (0.194 sec)\n",
      "INFO:tensorflow:global_step/sec: 502.686\n",
      "INFO:tensorflow:loss = 104233950000.0, step = 6801 (0.198 sec)\n",
      "INFO:tensorflow:global_step/sec: 512.967\n",
      "INFO:tensorflow:loss = 50791080000.0, step = 6901 (0.197 sec)\n",
      "INFO:tensorflow:global_step/sec: 512.536\n",
      "INFO:tensorflow:loss = 70822390000.0, step = 7001 (0.194 sec)\n",
      "INFO:tensorflow:global_step/sec: 501.066\n",
      "INFO:tensorflow:loss = 63160090000.0, step = 7101 (0.199 sec)\n",
      "INFO:tensorflow:global_step/sec: 510.044\n",
      "INFO:tensorflow:loss = 112647460000.0, step = 7201 (0.196 sec)\n",
      "INFO:tensorflow:global_step/sec: 515.266\n",
      "INFO:tensorflow:loss = 108305430000.0, step = 7301 (0.196 sec)\n",
      "INFO:tensorflow:global_step/sec: 503.736\n",
      "INFO:tensorflow:loss = 45050340000.0, step = 7401 (0.197 sec)\n",
      "INFO:tensorflow:global_step/sec: 515.643\n",
      "INFO:tensorflow:loss = 33756418000.0, step = 7501 (0.196 sec)\n",
      "INFO:tensorflow:global_step/sec: 513.589\n",
      "INFO:tensorflow:loss = 45286090000.0, step = 7601 (0.192 sec)\n"
     ]
    },
    {
     "name": "stdout",
     "output_type": "stream",
     "text": [
      "INFO:tensorflow:global_step/sec: 529.282\n",
      "INFO:tensorflow:loss = 104467554000.0, step = 7701 (0.191 sec)\n",
      "INFO:tensorflow:global_step/sec: 530.54\n",
      "INFO:tensorflow:loss = 48871680000.0, step = 7801 (0.188 sec)\n",
      "INFO:tensorflow:global_step/sec: 516.917\n",
      "INFO:tensorflow:loss = 39903420000.0, step = 7901 (0.195 sec)\n",
      "INFO:tensorflow:global_step/sec: 506.035\n",
      "INFO:tensorflow:loss = 147451610000.0, step = 8001 (0.197 sec)\n",
      "INFO:tensorflow:global_step/sec: 501.536\n",
      "INFO:tensorflow:loss = 134306940000.0, step = 8101 (0.198 sec)\n",
      "INFO:tensorflow:global_step/sec: 527.601\n",
      "INFO:tensorflow:loss = 92355300000.0, step = 8201 (0.191 sec)\n",
      "INFO:tensorflow:global_step/sec: 512.895\n",
      "INFO:tensorflow:loss = 92969960000.0, step = 8301 (0.193 sec)\n",
      "INFO:tensorflow:global_step/sec: 493.997\n",
      "INFO:tensorflow:loss = 32436445000.0, step = 8401 (0.201 sec)\n",
      "INFO:tensorflow:global_step/sec: 525.643\n",
      "INFO:tensorflow:loss = 66330976000.0, step = 8501 (0.192 sec)\n",
      "INFO:tensorflow:global_step/sec: 488.83\n",
      "INFO:tensorflow:loss = 77688610000.0, step = 8601 (0.202 sec)\n",
      "INFO:tensorflow:global_step/sec: 518.736\n",
      "INFO:tensorflow:loss = 52289454000.0, step = 8701 (0.193 sec)\n",
      "INFO:tensorflow:global_step/sec: 499.85\n",
      "INFO:tensorflow:loss = 67127770000.0, step = 8801 (0.202 sec)\n",
      "INFO:tensorflow:global_step/sec: 504.881\n",
      "INFO:tensorflow:loss = 65466060000.0, step = 8901 (0.196 sec)\n",
      "INFO:tensorflow:global_step/sec: 512.888\n",
      "INFO:tensorflow:loss = 101213180000.0, step = 9001 (0.196 sec)\n",
      "INFO:tensorflow:global_step/sec: 510.54\n",
      "INFO:tensorflow:loss = 43539083000.0, step = 9101 (0.195 sec)\n",
      "INFO:tensorflow:global_step/sec: 542.084\n",
      "INFO:tensorflow:loss = 63471428000.0, step = 9201 (0.188 sec)\n",
      "INFO:tensorflow:global_step/sec: 495.758\n",
      "INFO:tensorflow:loss = 22926434000.0, step = 9301 (0.198 sec)\n",
      "INFO:tensorflow:global_step/sec: 521.853\n",
      "INFO:tensorflow:loss = 47646085000.0, step = 9401 (0.193 sec)\n",
      "INFO:tensorflow:global_step/sec: 521.747\n",
      "INFO:tensorflow:loss = 85819330000.0, step = 9501 (0.194 sec)\n",
      "INFO:tensorflow:global_step/sec: 496.444\n",
      "INFO:tensorflow:loss = 18745283000.0, step = 9601 (0.202 sec)\n",
      "INFO:tensorflow:global_step/sec: 501.121\n",
      "INFO:tensorflow:loss = 77948990000.0, step = 9701 (0.195 sec)\n",
      "INFO:tensorflow:global_step/sec: 522.498\n",
      "INFO:tensorflow:loss = 129192600000.0, step = 9801 (0.195 sec)\n",
      "INFO:tensorflow:global_step/sec: 507.691\n",
      "INFO:tensorflow:loss = 68859230000.0, step = 9901 (0.195 sec)\n",
      "INFO:tensorflow:Saving checkpoints for 10000 into C:\\Users\\zEros\\AppData\\Local\\Temp\\tmpucxzmoxq\\model.ckpt.\n",
      "INFO:tensorflow:Loss for final step: 78037600000.0.\n"
     ]
    },
    {
     "data": {
      "text/plain": [
       "<tensorflow.python.estimator.canned.dnn.DNNRegressor at 0x15ddbfc5be0>"
      ]
     },
     "execution_count": 87,
     "metadata": {},
     "output_type": "execute_result"
    }
   ],
   "source": [
    "model.train(input_func, steps=10000)"
   ]
  },
  {
   "cell_type": "markdown",
   "metadata": {},
   "source": [
    "** Create a prediction input function and then use the .predict method off your estimator model to create a list or predictions on your test data. **"
   ]
  },
  {
   "cell_type": "code",
   "execution_count": 88,
   "metadata": {
    "collapsed": true
   },
   "outputs": [],
   "source": [
    "predic_input_func = tf.estimator.inputs.pandas_input_fn(X_test, y_test, batch_size=10, num_epochs=1, shuffle=False)"
   ]
  },
  {
   "cell_type": "code",
   "execution_count": 89,
   "metadata": {},
   "outputs": [],
   "source": [
    "results = model.predict(predic_input_func)"
   ]
  },
  {
   "cell_type": "code",
   "execution_count": 90,
   "metadata": {},
   "outputs": [
    {
     "name": "stdout",
     "output_type": "stream",
     "text": [
      "INFO:tensorflow:Calling model_fn.\n",
      "INFO:tensorflow:Done calling model_fn.\n",
      "INFO:tensorflow:Graph was finalized.\n",
      "INFO:tensorflow:Restoring parameters from C:\\Users\\zEros\\AppData\\Local\\Temp\\tmpucxzmoxq\\model.ckpt-10000\n",
      "INFO:tensorflow:Running local_init_op.\n",
      "INFO:tensorflow:Done running local_init_op.\n"
     ]
    }
   ],
   "source": [
    "predictions = []\n",
    "\n",
    "for pred in results:\n",
    "    predictions.append(pred[\"predictions\"])\n",
    "    "
   ]
  },
  {
   "cell_type": "markdown",
   "metadata": {},
   "source": [
    "** Calculate the RMSE. You should be able to get around 100,000 RMSE (remember that this is in the same units as the label.) Do this manually or use [sklearn.metrics](http://scikit-learn.org/stable/modules/generated/sklearn.metrics.mean_squared_error.html) **"
   ]
  },
  {
   "cell_type": "code",
   "execution_count": 91,
   "metadata": {},
   "outputs": [],
   "source": [
    "from sklearn.metrics import mean_squared_error"
   ]
  },
  {
   "cell_type": "code",
   "execution_count": 92,
   "metadata": {},
   "outputs": [
    {
     "data": {
      "text/plain": [
       "193292.78250151477"
      ]
     },
     "execution_count": 92,
     "metadata": {},
     "output_type": "execute_result"
    }
   ],
   "source": [
    "mean_squared_error(y_test,predictions)**0.5"
   ]
  },
  {
   "cell_type": "code",
   "execution_count": 78,
   "metadata": {},
   "outputs": [
    {
     "data": {
      "text/html": [
       "<div>\n",
       "<style scoped>\n",
       "    .dataframe tbody tr th:only-of-type {\n",
       "        vertical-align: middle;\n",
       "    }\n",
       "\n",
       "    .dataframe tbody tr th {\n",
       "        vertical-align: top;\n",
       "    }\n",
       "\n",
       "    .dataframe thead th {\n",
       "        text-align: right;\n",
       "    }\n",
       "</style>\n",
       "<table border=\"1\" class=\"dataframe\">\n",
       "  <thead>\n",
       "    <tr style=\"text-align: right;\">\n",
       "      <th></th>\n",
       "      <th>count</th>\n",
       "      <th>mean</th>\n",
       "      <th>std</th>\n",
       "      <th>min</th>\n",
       "      <th>25%</th>\n",
       "      <th>50%</th>\n",
       "      <th>75%</th>\n",
       "      <th>max</th>\n",
       "    </tr>\n",
       "  </thead>\n",
       "  <tbody>\n",
       "    <tr>\n",
       "      <th>housingMedianAge</th>\n",
       "      <td>20640.0</td>\n",
       "      <td>28.639486</td>\n",
       "      <td>12.585558</td>\n",
       "      <td>1.0000</td>\n",
       "      <td>18.0000</td>\n",
       "      <td>29.0000</td>\n",
       "      <td>37.00000</td>\n",
       "      <td>52.0000</td>\n",
       "    </tr>\n",
       "    <tr>\n",
       "      <th>totalRooms</th>\n",
       "      <td>20640.0</td>\n",
       "      <td>2635.763081</td>\n",
       "      <td>2181.615252</td>\n",
       "      <td>2.0000</td>\n",
       "      <td>1447.7500</td>\n",
       "      <td>2127.0000</td>\n",
       "      <td>3148.00000</td>\n",
       "      <td>39320.0000</td>\n",
       "    </tr>\n",
       "    <tr>\n",
       "      <th>totalBedrooms</th>\n",
       "      <td>20640.0</td>\n",
       "      <td>537.898014</td>\n",
       "      <td>421.247906</td>\n",
       "      <td>1.0000</td>\n",
       "      <td>295.0000</td>\n",
       "      <td>435.0000</td>\n",
       "      <td>647.00000</td>\n",
       "      <td>6445.0000</td>\n",
       "    </tr>\n",
       "    <tr>\n",
       "      <th>population</th>\n",
       "      <td>20640.0</td>\n",
       "      <td>1425.476744</td>\n",
       "      <td>1132.462122</td>\n",
       "      <td>3.0000</td>\n",
       "      <td>787.0000</td>\n",
       "      <td>1166.0000</td>\n",
       "      <td>1725.00000</td>\n",
       "      <td>35682.0000</td>\n",
       "    </tr>\n",
       "    <tr>\n",
       "      <th>households</th>\n",
       "      <td>20640.0</td>\n",
       "      <td>499.539680</td>\n",
       "      <td>382.329753</td>\n",
       "      <td>1.0000</td>\n",
       "      <td>280.0000</td>\n",
       "      <td>409.0000</td>\n",
       "      <td>605.00000</td>\n",
       "      <td>6082.0000</td>\n",
       "    </tr>\n",
       "    <tr>\n",
       "      <th>medianIncome</th>\n",
       "      <td>20640.0</td>\n",
       "      <td>3.870671</td>\n",
       "      <td>1.899822</td>\n",
       "      <td>0.4999</td>\n",
       "      <td>2.5634</td>\n",
       "      <td>3.5348</td>\n",
       "      <td>4.74325</td>\n",
       "      <td>15.0001</td>\n",
       "    </tr>\n",
       "    <tr>\n",
       "      <th>medianHouseValue</th>\n",
       "      <td>20640.0</td>\n",
       "      <td>206855.816909</td>\n",
       "      <td>115395.615874</td>\n",
       "      <td>14999.0000</td>\n",
       "      <td>119600.0000</td>\n",
       "      <td>179700.0000</td>\n",
       "      <td>264725.00000</td>\n",
       "      <td>500001.0000</td>\n",
       "    </tr>\n",
       "  </tbody>\n",
       "</table>\n",
       "</div>"
      ],
      "text/plain": [
       "                    count           mean            std         min  \\\n",
       "housingMedianAge  20640.0      28.639486      12.585558      1.0000   \n",
       "totalRooms        20640.0    2635.763081    2181.615252      2.0000   \n",
       "totalBedrooms     20640.0     537.898014     421.247906      1.0000   \n",
       "population        20640.0    1425.476744    1132.462122      3.0000   \n",
       "households        20640.0     499.539680     382.329753      1.0000   \n",
       "medianIncome      20640.0       3.870671       1.899822      0.4999   \n",
       "medianHouseValue  20640.0  206855.816909  115395.615874  14999.0000   \n",
       "\n",
       "                          25%          50%           75%          max  \n",
       "housingMedianAge      18.0000      29.0000      37.00000      52.0000  \n",
       "totalRooms          1447.7500    2127.0000    3148.00000   39320.0000  \n",
       "totalBedrooms        295.0000     435.0000     647.00000    6445.0000  \n",
       "population           787.0000    1166.0000    1725.00000   35682.0000  \n",
       "households           280.0000     409.0000     605.00000    6082.0000  \n",
       "medianIncome           2.5634       3.5348       4.74325      15.0001  \n",
       "medianHouseValue  119600.0000  179700.0000  264725.00000  500001.0000  "
      ]
     },
     "execution_count": 78,
     "metadata": {},
     "output_type": "execute_result"
    }
   ],
   "source": [
    "houses.describe().transpose()"
   ]
  },
  {
   "cell_type": "markdown",
   "metadata": {},
   "source": [
    "# Great Job!"
   ]
  },
  {
   "cell_type": "code",
   "execution_count": null,
   "metadata": {
    "collapsed": true
   },
   "outputs": [],
   "source": []
  }
 ],
 "metadata": {
  "kernelspec": {
   "display_name": "Python 3",
   "language": "python",
   "name": "python3"
  },
  "language_info": {
   "codemirror_mode": {
    "name": "ipython",
    "version": 3
   },
   "file_extension": ".py",
   "mimetype": "text/x-python",
   "name": "python",
   "nbconvert_exporter": "python",
   "pygments_lexer": "ipython3",
   "version": "3.6.6"
  }
 },
 "nbformat": 4,
 "nbformat_minor": 2
}
